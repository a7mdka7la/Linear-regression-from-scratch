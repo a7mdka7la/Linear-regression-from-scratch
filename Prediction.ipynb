{
 "cells": [
  {
   "cell_type": "code",
   "execution_count": 55,
   "metadata": {},
   "outputs": [],
   "source": [
    "def linear_equation(x):\n",
    "    y = 20 * x + 3\n",
    "    return y"
   ]
  },
  {
   "cell_type": "code",
   "execution_count": 56,
   "metadata": {},
   "outputs": [
    {
     "name": "stdout",
     "output_type": "stream",
     "text": [
      "x \t y\n",
      "-------------------\n",
      "1 \t 23\n",
      "3 \t 63\n",
      "-2 \t -37\n",
      "0 \t 3\n",
      "5 \t 103\n"
     ]
    }
   ],
   "source": [
    "x_values = [1, 3, -2, 0, 5]\n",
    "\n",
    "y_values = [linear_equation(x) for x in x_values]\n",
    "\n",
    "print(\"x \\t y\")\n",
    "print(\"-------------------\")\n",
    "for i in range(len(x_values)):\n",
    "    print(f\"{x_values[i]} \\t {y_values[i]}\")"
   ]
  },
  {
   "cell_type": "code",
   "execution_count": 57,
   "metadata": {},
   "outputs": [
    {
     "name": "stdout",
     "output_type": "stream",
     "text": [
      "[[ 1  1]\n",
      " [ 1  3]\n",
      " [ 1 -2]\n",
      " [ 1  0]\n",
      " [ 1  5]]\n"
     ]
    }
   ],
   "source": [
    "import numpy as np\n",
    "\n",
    "x_values = np.array([1, 3, -2, 0, 5])\n",
    "x_col = np.reshape(x_values, (len(x_values), 1))\n",
    "one_col = np.ones_like(x_col)\n",
    "matrix = np.concatenate((one_col, x_col), axis=1)\n",
    "\n",
    "print(matrix)\n"
   ]
  },
  {
   "cell_type": "code",
   "execution_count": 58,
   "metadata": {},
   "outputs": [],
   "source": [
    "def leastSquare(x,y):\n",
    "    xSum = 0\n",
    "    ySum = 0\n",
    "    xySum = 0\n",
    "    xSq = 0\n",
    "\n",
    "    for i in range(len(x)):\n",
    "        xSum += x[i]\n",
    "        ySum += y[i]\n",
    "        xySum += (x[i] * y[i])\n",
    "        xSq += (x[i] * x[i])\n",
    "    slope = ((len(x) * xySum) - (xSum * ySum)) / ((len(x) * xSq) - (xSum**2))\n",
    "    b = (ySum - (slope * xSum)) / len(x)\n",
    "    return slope, b"
   ]
  },
  {
   "cell_type": "code",
   "execution_count": 59,
   "metadata": {},
   "outputs": [
    {
     "name": "stdout",
     "output_type": "stream",
     "text": [
      "w =  20 * x + 3\n"
     ]
    }
   ],
   "source": [
    "slope, b = leastSquare(x_values,y_values)\n",
    "print('w = ',int(slope), '* x +',int(b))"
   ]
  },
  {
   "cell_type": "code",
   "execution_count": 60,
   "metadata": {},
   "outputs": [
    {
     "data": {
      "text/plain": [
       "array([[ 1,  1,  1,  1,  1],\n",
       "       [ 1,  3, -2,  0,  5]])"
      ]
     },
     "execution_count": 60,
     "metadata": {},
     "output_type": "execute_result"
    }
   ],
   "source": [
    "x_transpose = np.transpose(matrix)\n",
    "x_transpose"
   ]
  },
  {
   "cell_type": "code",
   "execution_count": 61,
   "metadata": {},
   "outputs": [
    {
     "data": {
      "text/plain": [
       "array([[ 5,  7],\n",
       "       [ 7, 39]])"
      ]
     },
     "execution_count": 61,
     "metadata": {},
     "output_type": "execute_result"
    }
   ],
   "source": [
    "res = np.dot(x_transpose,matrix)\n",
    "res"
   ]
  },
  {
   "cell_type": "code",
   "execution_count": 62,
   "metadata": {},
   "outputs": [
    {
     "data": {
      "text/plain": [
       "array([[ 0.26712329, -0.04794521],\n",
       "       [-0.04794521,  0.03424658]])"
      ]
     },
     "execution_count": 62,
     "metadata": {},
     "output_type": "execute_result"
    }
   ],
   "source": [
    "inverse = np.linalg.inv(res)\n",
    "inverse"
   ]
  },
  {
   "cell_type": "code",
   "execution_count": 63,
   "metadata": {},
   "outputs": [
    {
     "data": {
      "text/plain": [
       "array([[ 0.21917808,  0.12328767,  0.3630137 ,  0.26712329,  0.02739726],\n",
       "       [-0.01369863,  0.05479452, -0.11643836, -0.04794521,  0.12328767]])"
      ]
     },
     "execution_count": 63,
     "metadata": {},
     "output_type": "execute_result"
    }
   ],
   "source": [
    "all = np.dot(inverse,x_transpose)\n",
    "all"
   ]
  },
  {
   "cell_type": "code",
   "execution_count": 64,
   "metadata": {},
   "outputs": [
    {
     "name": "stdout",
     "output_type": "stream",
     "text": [
      "w =  20 * x + 3\n"
     ]
    }
   ],
   "source": [
    "w = np.dot(all,y_values)\n",
    "print('w = ',round(w[1]), '* x +',round(w[0]))"
   ]
  },
  {
   "cell_type": "code",
   "execution_count": 65,
   "metadata": {},
   "outputs": [
    {
     "data": {
      "image/png": "[encoded data removed]",
      "text/plain": [
       "<Figure size 640x480 with 1 Axes>"
      ]
     },
     "metadata": {},
     "output_type": "display_data"
    }
   ],
   "source": [
    "import matplotlib.pyplot as plt\n",
    "plt.scatter(x_values, y_values, color='blue', label='Data Points')\n",
    "plt.plot(x_values, w[1] * x_values + w[0], color='red', label='Regression Line')\n",
    "plt.grid(True)\n",
    "plt.show()"
   ]
  },
  {
   "cell_type": "code",
   "execution_count": 66,
   "metadata": {},
   "outputs": [
    {
     "data": {
      "text/plain": [
       "array([[ 23.16795688],\n",
       "       [ 43.01154252],\n",
       "       [ 63.9524179 ],\n",
       "       [ 83.03939518],\n",
       "       [103.21049146]])"
      ]
     },
     "execution_count": 66,
     "metadata": {},
     "output_type": "execute_result"
    }
   ],
   "source": [
    "import random\n",
    "y_noisy = []\n",
    "for i in range(1,6):\n",
    "    rand = random.random()\n",
    "    y_noisy = np.append(y_noisy, 20 * i + 3 + rand)\n",
    "    \n",
    "y_noisy = y_noisy.reshape(-1,1)\n",
    "y_noisy"
   ]
  },
  {
   "cell_type": "code",
   "execution_count": 67,
   "metadata": {},
   "outputs": [
    {
     "data": {
      "image/png": "[encoded data removed]",
      "text/plain": [
       "<Figure size 640x480 with 1 Axes>"
      ]
     },
     "metadata": {},
     "output_type": "display_data"
    }
   ],
   "source": [
    "plt.scatter(x_values, y_noisy, color='blue', label='Data Points')\n",
    "plt.plot(x_values, w[1] * x_values + w[0], color='red', label='Regression Line')\n",
    "plt.grid(True)\n",
    "plt.show()"
   ]
  },
  {
   "cell_type": "code",
   "execution_count": null,
   "metadata": {},
   "outputs": [],
   "source": []
  }
 ],
 "metadata": {
  "kernelspec": {
   "display_name": "Python 3",
   "language": "python",
   "name": "python3"
  },
  "language_info": {
   "codemirror_mode": {
    "name": "ipython",
    "version": 3
   },
   "file_extension": ".py",
   "mimetype": "text/x-python",
   "name": "python",
   "nbconvert_exporter": "python",
   "pygments_lexer": "ipython3",
   "version": "3.10.8"
  }
 },
 "nbformat": 4,
 "nbformat_minor": 2
}
